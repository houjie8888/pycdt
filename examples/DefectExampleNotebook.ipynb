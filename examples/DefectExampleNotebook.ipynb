{
 "cells": [
  {
   "cell_type": "markdown",
   "metadata": {},
   "source": [
    "#### Introduction¶\n",
    "This notebook demonstrates how to use the defects modules within Pymatgen and PyCDT v2.0.\n",
    "\n",
    "Written using:\n",
    "- pymatgen==2019.5.1, pycdt==2.0.0\n",
    "\n",
    "Relevant links:\n",
    "      - http://pymatgen.org\n",
    "      - https://github.com/materialsproject/pymatgen\n",
    "      - https://bitbucket.org/mbkumar/pycdt/src/master/\n",
    "\n",
    "Author: Danny Broberg (last updated: 5/8/19)\n",
    "\n",
    "This Jupyter notebook is not intended to teach one about the physics of point defect calculations. It instead intends to show how one can use the tools within the above mentioned codes to expedite the performance of these calculations for an intelligent researcher. \n",
    "\n",
    "For references on how to perform defect calculations, we suggest:\n",
    "- D. Broberg et al. (2018): https://doi.org/10.1016/j.cpc.2018.01.004\n",
    "- A. Goyal et al. (2017): https://doi.org/10.1016/j.commatsci.2016.12.040\n",
    "- C. Freysoldt et al. (2014): https://doi.org/10.1103/RevModPhys.86.253\n",
    "- S. Lany et al. (2008): https://doi.org/10.1103/PhysRevB.78.235104\n",
    "- C. G. Van de Walle et al. (2004): https://doi.org/10.1063/1.1682673"
   ]
  },
  {
   "cell_type": "markdown",
   "metadata": {},
   "source": [
    "# Pymatgen defect-related code"
   ]
  },
  {
   "cell_type": "markdown",
   "metadata": {},
   "source": [
    "Many features that originally existed within the Python Charged Defect Toolkit (PyCDT) now exist in pymatgen. While working with many of these features is useful for writing your own code, you may find that using Atomate or PyCDT scripts expedite the process of working with these defect modules. Regardless, it is still important to understand the fundamental building blocks of the pymatgen Defects module for writing your own code."
   ]
  },
  {
   "cell_type": "markdown",
   "metadata": {},
   "source": [
    "### Example P1: Creating and using Defect objects (pymatgen)"
   ]
  },
  {
   "cell_type": "markdown",
   "metadata": {},
   "source": [
    "Pymatgen has several defect object types available for use: Vacancy, Substitution, and Interstitial. Substitutions is used for both intrinsic (antisites) and extrinsic (dopants) types of defects. Note that defect-complexes are not currently possible to execute within pymatgen. \n",
    "\n",
    "It is possible to manually create Defect objects or to generate them using pymatgen's defect generator classes. Generators are particularly useful when dealing with Interstitial sites, which can occasionally be difficult to identify. There are multiple possible routines available for interstitial generation (InFit, Voronoi, and Midpoint) as well as a MasterInterstitialGenerator which considers all the generation methods simultaneously. There is also a SimpleChargeGenerator routine which can be used for very simplistic guesses of charge states to consider."
   ]
  },
  {
   "cell_type": "code",
   "execution_count": null,
   "metadata": {},
   "outputs": [],
   "source": [
    "# manually create defect objects and generate their supercell structures\n",
    "from pymatgen.analysis.defects.core import Vacancy, Substitution, Interstitial\n",
    "from pymatgen.io.vasp import Poscar\n",
    "from pymatgen import MPRester, PeriodicSite\n",
    "\n",
    "with MPRester() as mp:\n",
    "    bulk_structure = mp.get_structure_by_material_id('mp-661') #AlN wurtzite structure \n",
    "    \n",
    "    \n",
    "defect_site = PeriodicSite(bulk_structure.sites[0].specie, bulk_structure.sites[0].frac_coords, \n",
    "                           bulk_structure.lattice)\n",
    "vac = Vacancy(bulk_structure, defect_site, charge=-3)\n",
    "print(\"Creating Defect {} in charge state {}:\".format( vac.name, vac.charge))\n",
    "print(vac.generate_defect_structure( supercell=(2, 1, 1)))\n",
    "\n",
    "\n",
    "defect_site = PeriodicSite(\"Be\", \n",
    "                           #note Be is the specie to sit on the final site in the defect structure\n",
    "                           bulk_structure.sites[0].frac_coords, \n",
    "                           bulk_structure.lattice)\n",
    "sub = Substitution(bulk_structure, defect_site, charge=-2)\n",
    "print(\"\\nCreated Defect {} in charge {}:\".format( sub.name, sub.charge))\n",
    "print(sub.generate_defect_structure( supercell=(2, 1, 1)))\n",
    "\n",
    "\n",
    "defect_site = PeriodicSite(\"H\", [0.666, 0.333, 0.69], \n",
    "                           bulk_structure.lattice)\n",
    "inter = Interstitial(bulk_structure, defect_site, charge=0.)\n",
    "print(\"\\nCreated Defect {} in charge {}:\".format( inter.name, inter.charge))\n",
    "print(inter.generate_defect_structure( supercell=(2, 1, 1)))"
   ]
  },
  {
   "cell_type": "code",
   "execution_count": null,
   "metadata": {},
   "outputs": [],
   "source": [
    "# use generators to create defects. Note that generators always create neutral \n",
    "# defects which can be charged after being created\n",
    "from pymatgen.analysis.defects.generators import VacancyGenerator, SubstitutionGenerator, \\\n",
    "                                                VoronoiInterstitialGenerator\n",
    "\n",
    "print('Vacancy Generator:')\n",
    "for vac_defect in VacancyGenerator( bulk_structure):\n",
    "    print(\"\\tCreated Defect {} at site {}\".format( vac_defect.name, vac_defect.site))\n",
    "    \n",
    "print('Substitution Generator:')\n",
    "for sub_defect in SubstitutionGenerator( bulk_structure, 'Be'):\n",
    "    print(\"\\tCreated Defect {} at site {}\".format( sub_defect.name, sub_defect.site))\n",
    "    \n",
    "print('Voronoi Generator:')\n",
    "for inter_defect in VoronoiInterstitialGenerator( bulk_structure, 'H'):\n",
    "    print(\"\\tCreated Defect {} at site {}\".format( inter_defect.name, inter_defect.site))"
   ]
  },
  {
   "cell_type": "code",
   "execution_count": null,
   "metadata": {},
   "outputs": [],
   "source": [
    "# use SimpleChargeGenerator to consider a simple set of charges to run for a given defect\n",
    "from pymatgen.analysis.defects.generators import VacancyGenerator, SimpleChargeGenerator\n",
    "\n",
    "defects_to_run = []\n",
    "for vac_defect in VacancyGenerator( bulk_structure):\n",
    "    print(\"Created Defect {}\".format( vac_defect.name))\n",
    "    for charged_defect in SimpleChargeGenerator( vac_defect):\n",
    "        print(\"\\tcreated defect with charge {}\".format( charged_defect.charge))\n",
    "        defects_to_run.append( charged_defect.copy())"
   ]
  },
  {
   "cell_type": "code",
   "execution_count": null,
   "metadata": {},
   "outputs": [],
   "source": [
    "# note that multiplicites are automatically determined based \n",
    "# on the number of equivalent sites in the bulk_structure's sublattice\n",
    "\n",
    "for defect in [vac, sub, inter]:\n",
    "    print(\"{} chg {} has multiplicity = {}\".format(defect.name, defect.charge, defect.multiplicity))"
   ]
  },
  {
   "cell_type": "markdown",
   "metadata": {},
   "source": [
    "One advantage of using pymatgen Defect objects is the ability to compare equivalent defects which do not have identical cartesian coordinates. This comes in useful when comparing defects with different cell sizes or defects created at different sites on an indentical sublattice. This comparison is done via the PointDefectComparator module."
   ]
  },
  {
   "cell_type": "code",
   "execution_count": null,
   "metadata": {},
   "outputs": [],
   "source": [
    "# compare equivalent defect objects\n",
    "from pymatgen.analysis.structure_matcher import PointDefectComparator\n",
    "\n",
    "# same sublattice, different cartesian coordinates, different charge (with check_charge = False)\n",
    "vac_1 = Vacancy(bulk_structure, bulk_structure.sites[0], charge=2.)\n",
    "vac_2 = Vacancy(bulk_structure, bulk_structure.sites[1], charge=1.)\n",
    "\n",
    "pdc = PointDefectComparator( check_charge=False, check_primitive_cell=False,\n",
    "                             check_lattice_scale=False)\n",
    "print(\"(1) Are these defects equivalent? {}\".format( pdc.are_equal( vac_1, vac_2)))\n",
    "\n",
    "# same site, different charge (with check_charge = True)\n",
    "vac_3 = vac_1.copy()\n",
    "vac_3.set_charge(0.)\n",
    "pdc = PointDefectComparator( check_charge=True)\n",
    "print(\"(2) Are these defects equivalent? {}\".format( pdc.are_equal( vac_1, vac_3)))\n",
    "\n",
    "# same sublattice, different coordinates, different lattice (with check_lattice_scale = False/True)\n",
    "scaled_bulk_struct = bulk_structure.copy()\n",
    "scaled_bulk_struct.scale_lattice(bulk_structure.volume * 0.95)\n",
    "vac_4 = Vacancy(scaled_bulk_struct, scaled_bulk_struct.sites[1], charge=2.)\n",
    "pdc = PointDefectComparator( check_lattice_scale=False)\n",
    "print(\"(3) Are these defects equivalent? {}\".format( pdc.are_equal( vac_1, vac_4)))\n",
    "\n",
    "pdc = PointDefectComparator( check_lattice_scale=True)\n",
    "print(\"(4) Are these defects equivalent? {}\".format( pdc.are_equal( vac_1, vac_4)))"
   ]
  },
  {
   "cell_type": "markdown",
   "metadata": {},
   "source": [
    "### Example P2: Working with DefectEnergy objects (pymatgen)"
   ]
  },
  {
   "cell_type": "markdown",
   "metadata": {},
   "source": [
    "DefectEntry objects are  similar to Pymatgen ComputedEntry objects, but with additional features useful for Defect analysis. The minimum requirement for a DefectEntry is a defect object and the uncorrected energy (defect supercell energy - bulk supercell energy)."
   ]
  },
  {
   "cell_type": "code",
   "execution_count": null,
   "metadata": {},
   "outputs": [],
   "source": [
    "# create Defect Entry\n",
    "from pymatgen.analysis.defects.core import DefectEntry\n",
    "\n",
    "defect_energy = -225.286\n",
    "bulk_energy = -240.237\n",
    "parameters = {\"vbm\": 1.2, \"band_gap\": 4.039, \"scaling_matrix\": [3.,3.,3.]}\n",
    "corrections = {} #if corrections exist, then one can import them as a dictionary to the DefectEntry\n",
    "uncorrected_energy = defect_energy - bulk_energy\n",
    "dentry = DefectEntry(vac, uncorrected_energy, \n",
    "                     corrections=corrections, parameters=parameters)\n",
    "print(\"Defect Entry created for {} chg {} with uncorrected energy {}\".format( dentry.name, dentry.charge, \n",
    "                                                                             dentry.uncorrected_energy))"
   ]
  },
  {
   "cell_type": "markdown",
   "metadata": {},
   "source": [
    "In order to intepret the thermodynamic energetics of the DefectEntry, it is neccessary to have chemical potentials. At the most basic level, this requires a PhaseDiagram to be used. If the Defect calculations were performed with the same POTCAR and identical INCAR settings to those used in the Materials Project database, then the following routine can be used to grab the chemical potentials:"
   ]
  },
  {
   "cell_type": "code",
   "execution_count": null,
   "metadata": {},
   "outputs": [],
   "source": [
    "# grab chemical potentials, using the standard PhaseDiagram method \n",
    "from pymatgen.analysis.phase_diagram import PhaseDiagram\n",
    "\n",
    "red_comp = dentry.bulk_structure.composition.reduced_composition\n",
    "elt_set = list(dentry.bulk_structure.symbol_set)\n",
    "with MPRester() as mp:\n",
    "    pd_ents = mp.get_entries_in_chemsys( elt_set)\n",
    "    \n",
    "pd = PhaseDiagram( pd_ents)\n",
    "cp_dict = pd.get_all_chempots( red_comp)\n",
    "\n",
    "print('\\nResulting chemical potentials:')\n",
    "for k,v in cp_dict.items():\n",
    "      print(\"\\t{}: {}\".format(k,v))"
   ]
  },
  {
   "cell_type": "code",
   "execution_count": null,
   "metadata": {},
   "outputs": [],
   "source": [
    "# get formation energy at the valence band minimum, given a dictionary of chemical potentials\n",
    "\n",
    "for region, cps in cp_dict.items():\n",
    "    form_en = dentry.formation_energy( chemical_potentials=cps, fermi_level=0)\n",
    "    print(\"At the VBM, for chemical potentials given by {}\"\n",
    "          \"\\n\\t{} chg {} formation energy is {}\".format(region, dentry.name, dentry.charge, form_en))"
   ]
  },
  {
   "cell_type": "code",
   "execution_count": null,
   "metadata": {},
   "outputs": [],
   "source": [
    "# get defect concentrations as a function of temperature, given the chemical potentials,\n",
    "# and plot as a function of temperature.\n",
    "import numpy as np\n",
    "import matplotlib.pyplot as plt\n",
    "%matplotlib inline\n",
    "\n",
    "try:\n",
    "    cps = cp_dict['Al-AlN']\n",
    "except:\n",
    "    cps = cp_dict[\"AlN-Al\"]\n",
    "    \n",
    "TempRange = np.arange(300, 1001, 100)\n",
    "ConcenRange = []\n",
    "for T in TempRange:\n",
    "    ConcenRange.append( dentry.defect_concentration( cps, temperature=T, fermi_level=0))\n",
    "\n",
    "print(\"Plot concentrations of {} charge {}\\n (assuming fermi level\"\n",
    "      \" is at the VBM):\".format( dentry.name, dentry.charge))\n",
    "plt.semilogy(TempRange, ConcenRange)\n",
    "plt.xlabel(\"Temperature [K]\")\n",
    "plt.ylabel(\"Defect Concentration [cm$^{-3}$]\")\n",
    "plt.show()"
   ]
  },
  {
   "cell_type": "markdown",
   "metadata": {},
   "source": [
    "### Example P3: Run finite-size corrections (pymatgen)"
   ]
  },
  {
   "cell_type": "markdown",
   "metadata": {},
   "source": [
    "The defect formation energy reflects the energy to create a single point defect in an infinite bulk system (otherwise known as the 'dilute limit'). Since most DFT calculations are performed with periodic boundary conditions, additional corrections are required for removing energetic contributions from finite-size effects.\n",
    "\n",
    "Pymatgen provides modules for performing many of these corrections on DefectEntry objects. In order to have them function properly, it is neccessary to load the DefectEntry's parameters with the neccessary metadata for performing these calcualtions. As is detailed later in this notebook, PyCDT and Atomate both provide less cumbersome approaches to loading metadata required for loading relevant parameters for all the corrections."
   ]
  },
  {
   "cell_type": "code",
   "execution_count": null,
   "metadata": {},
   "outputs": [],
   "source": [
    "# load all parameter numbers from example json file\n",
    "from monty.serialization import loadfn\n",
    "\n",
    "corr_params = loadfn(\"example_params.json\")"
   ]
  },
  {
   "cell_type": "code",
   "execution_count": null,
   "metadata": {},
   "outputs": [],
   "source": [
    "# Load up relevant parameters and apply Freysoldt Correction\n",
    "from pymatgen.analysis.defects.corrections import FreysoldtCorrection\n",
    "\n",
    "frey_params = {\n",
    "    \"axis_grid\": corr_params[\"axis_grid\"],\n",
    "    \"bulk_planar_averages\": corr_params[\"bulk_planar_averages\"],\n",
    "    \"defect_planar_averages\": corr_params[\"defect_planar_averages\"],\n",
    "    \"scaling_matrix\": corr_params[\"scaling_matrix\"],\n",
    "    \"initial_defect_structure\": corr_params[\"initial_defect_structure\"],\n",
    "    \"defect_frac_sc_coords\": corr_params[\"defect_frac_sc_coords\"]\n",
    "    }\n",
    "\n",
    "dentry = DefectEntry(vac, corr_params['uncorr_energy'], \n",
    "                     parameters=frey_params)\n",
    "\n",
    "fc = FreysoldtCorrection( corr_params['dielectric'])\n",
    "corr = fc.get_correction( dentry)\n",
    "print(\"Freysoldt Correction determined to be: {}\".format( corr))"
   ]
  },
  {
   "cell_type": "code",
   "execution_count": null,
   "metadata": {},
   "outputs": [],
   "source": [
    "# After evaluating the correction, the freysoldt plot can then be plotted for a given axis to access localization\n",
    "# (NOTE: this example was for a very small supercell to minimize memory requirement. \n",
    "#        Plot shows a clearly delocalized defect state)\n",
    "import matplotlib\n",
    "%matplotlib inline\n",
    "\n",
    "p = fc.plot( 1, title=\"Example\")\n",
    "p.show()"
   ]
  },
  {
   "cell_type": "code",
   "execution_count": null,
   "metadata": {},
   "outputs": [],
   "source": [
    "# Load up relevant parameters and apply Kumagai Correction\n",
    "from pymatgen.analysis.defects.corrections import KumagaiCorrection\n",
    "\n",
    "kumagai_params = {\n",
    "    \"bulk_atomic_site_averages\": corr_params[\"bulk_atomic_site_averages\"],\n",
    "    \"defect_atomic_site_averages\": corr_params[\"defect_atomic_site_averages\"],\n",
    "    \"site_matching_indices\": corr_params[\"site_matching_indices\"],\n",
    "    \"initial_defect_structure\": corr_params[\"initial_defect_structure\"],\n",
    "    \"defect_frac_sc_coords\": corr_params[\"defect_frac_sc_coords\"]\n",
    "    }\n",
    "\n",
    "dentry = DefectEntry(vac, corr_params['uncorr_energy'], \n",
    "                     parameters=kumagai_params)\n",
    "\n",
    "kc = KumagaiCorrection( corr_params['dielectric'])\n",
    "corr = kc.get_correction( dentry)\n",
    "print(\"Kumagai Correction determined to be: {}\".format( corr))"
   ]
  },
  {
   "cell_type": "code",
   "execution_count": null,
   "metadata": {},
   "outputs": [],
   "source": [
    "# After evaluating the correction, the Kumagai plot can then be plotted for a given axis to access localization\n",
    "# (NOTE: this example was for a very small supercell to minimize memory requirement. \n",
    "#        Plot shows a clearly delocalized defect state)\n",
    "import matplotlib\n",
    "%matplotlib inline\n",
    "\n",
    "p = kc.plot(title=\"Example\")\n",
    "p.show()"
   ]
  },
  {
   "cell_type": "code",
   "execution_count": null,
   "metadata": {},
   "outputs": [],
   "source": [
    "# Load up relevant parameters and apply BandFilling Correction\n",
    "from pymatgen.analysis.defects.corrections import BandFillingCorrection\n",
    "\n",
    "bandfill_params = {\n",
    "    \"eigenvalues\": corr_params[\"eigenvalues\"],\n",
    "    \"kpoint_weights\": corr_params[\"kpoint_weights\"],\n",
    "    \"potalign\": corr_params[\"potalign\"],\n",
    "    \"cbm\": corr_params[\"cbm\"],\n",
    "    \"vbm\": corr_params[\"vbm\"]\n",
    "    }\n",
    "\n",
    "dentry = DefectEntry(vac, corr_params['uncorr_energy'], \n",
    "                     parameters=bandfill_params)\n",
    "\n",
    "bfc = BandFillingCorrection()\n",
    "corr = bfc.get_correction( dentry)\n",
    "print(\"Bandfilling Correction determined to be: {}\".format( corr))"
   ]
  },
  {
   "cell_type": "code",
   "execution_count": null,
   "metadata": {},
   "outputs": [],
   "source": [
    "# Load up relevant parameters and apply BandEdgeShifting Correction\n",
    "from pymatgen.analysis.defects.corrections import BandEdgeShiftingCorrection\n",
    "\n",
    "bandedgeshift_params = {\n",
    "    \"hybrid_cbm\": corr_params[\"hybrid_cbm\"],\n",
    "    \"hybrid_vbm\": corr_params[\"hybrid_vbm\"],\n",
    "    \"cbm\": corr_params[\"cbm\"],\n",
    "    \"vbm\": corr_params[\"vbm\"]\n",
    "    }\n",
    "\n",
    "dentry = DefectEntry(vac, corr_params['uncorr_energy'], \n",
    "                     parameters=bandedgeshift_params)\n",
    "\n",
    "bes = BandEdgeShiftingCorrection()\n",
    "corr = bes.get_correction( dentry)\n",
    "print(\"BandEdgeShift Correction determined to be: {}\".format( corr))"
   ]
  },
  {
   "cell_type": "markdown",
   "metadata": {},
   "source": [
    "### Example P4: Use DefectCompatibility to detect delocalized defect states (pymatgen)"
   ]
  },
  {
   "cell_type": "markdown",
   "metadata": {},
   "source": [
    "Determining the localization of a defect can sometimes be a non-trivial task. Moreover, individually performing the above corrections can be cumbersome. The DefectCompatibility module performs a set of localization analyses to determine if the defect is localized while evaluating all of the possible corrections, given the DefectEntry's parameters. The parameters used to determine this localization can be tuned by the user, but the default settings are a good starting point."
   ]
  },
  {
   "cell_type": "code",
   "execution_count": null,
   "metadata": {},
   "outputs": [],
   "source": [
    "# create DefectEntry with all parameters from Example P3\n",
    "\n",
    "dentry = DefectEntry(vac, corr_params['uncorr_energy'], \n",
    "                     parameters=corr_params.copy())"
   ]
  },
  {
   "cell_type": "code",
   "execution_count": null,
   "metadata": {},
   "outputs": [],
   "source": [
    "# instantiate Defect Compatibility will delocalization parameters\n",
    "# and process defect entry fully\n",
    "from pymatgen.analysis.defects.defect_compatibility import DefectCompatibility\n",
    "\n",
    "dc = DefectCompatibility( plnr_avg_var_tol=0.1, plnr_avg_minmax_tol=0.1,\n",
    "                     atomic_site_var_tol=0.1, atomic_site_minmax_tol=0.1,\n",
    "                     tot_relax_tol=1.0, perc_relax_tol=20.,\n",
    "                     defect_tot_relax_tol=0.1, preferred_cc='freysoldt',\n",
    "                     free_chg_cutoff=2.)\n",
    "\n",
    "dentry = dc.process_entry( dentry)"
   ]
  },
  {
   "cell_type": "code",
   "execution_count": null,
   "metadata": {},
   "outputs": [],
   "source": [
    "# notice that process_entry performed all corrections since \n",
    "# parameters were all adequately loaded. \n",
    "\n",
    "print(\"Defect Entry has following corrections:\")\n",
    "for k,v in dentry.corrections.items():\n",
    "    print(\"\\t{}: {}\".format( k,v))"
   ]
  },
  {
   "cell_type": "code",
   "execution_count": null,
   "metadata": {},
   "outputs": [],
   "source": [
    "# Also notice that compatibility results exist for each metric\n",
    "\n",
    "print(\"After DefectCompatibility analysis,\"\n",
    "      \" is_compatible = {}\".format( dentry.parameters['is_compatible']))\n",
    "print(\"Breaking down compatibility analyses\")\n",
    "for k,v in dentry.parameters[\"delocalization_meta\"].items():\n",
    "    print(\"\\t{}: {}\".format(k, v[\"is_compatible\"]))"
   ]
  },
  {
   "cell_type": "markdown",
   "metadata": {},
   "source": [
    "### Example P5: Create and work with PhaseDiagram objects (pymatgen)"
   ]
  },
  {
   "cell_type": "code",
   "execution_count": null,
   "metadata": {},
   "outputs": [],
   "source": [
    "# load example dpd entries\n",
    "from monty.serialization import loadfn\n",
    "\n",
    "dpd_dat = loadfn(\"example_dpd_data.json\")"
   ]
  },
  {
   "cell_type": "code",
   "execution_count": null,
   "metadata": {},
   "outputs": [],
   "source": [
    "# load a DefectPhaseDiagram\n",
    "from pymatgen.analysis.defects.thermodynamics import DefectPhaseDiagram\n",
    "from pymatgen.core import Element\n",
    "\n",
    "cp = {Element(\"Al\"): -3.74810318, Element(\"N\"): -11.141733989999999,\n",
    "      Element(\"H\"): -3.4006335908333334, Element(\"O\"): -10.672383753333335\n",
    "     }\n",
    "dpd = DefectPhaseDiagram( dpd_dat[\"entries\"],\n",
    "                          dpd_dat[\"vbm\"], dpd_dat[\"band_gap\"],\n",
    "                          filter_compatible=False)"
   ]
  },
  {
   "cell_type": "code",
   "execution_count": null,
   "metadata": {},
   "outputs": [],
   "source": [
    "# Find stable charges and transition levels\n",
    "\n",
    "print('Finished charges:')\n",
    "for k, v in dpd.finished_charges.items():\n",
    "    print('\\t{}: {}'.format( k, v))\n",
    "print('\\nSTABLE charges (and transition levels):')\n",
    "for k, v in dpd.stable_charges.items():\n",
    "    print('\\t{}: {}\\t(t.l.: {} ) '.format( k, v, \n",
    "                                           dpd.transition_levels[k]))"
   ]
  },
  {
   "cell_type": "code",
   "execution_count": null,
   "metadata": {},
   "outputs": [],
   "source": [
    "# plot the formation energies for the loaded data\n",
    "import matplotlib\n",
    "%matplotlib inline\n",
    "\n",
    "p = dpd.plot(cp, ylim=None, ax_fontsize=1.3, fermi_level = None)\n",
    "p.show()"
   ]
  },
  {
   "cell_type": "code",
   "execution_count": null,
   "metadata": {},
   "outputs": [],
   "source": [
    "# suggest followup charges and supercell sizes \n",
    "# based on DefectCompatibility\n",
    "\n",
    "print('\\nNow consider charges for follow up..')\n",
    "rec_dict = dpd.suggest_charges()\n",
    "for defname, charge_list in rec_dict.items():\n",
    "    print(\"\\t{} needs {} charges to be run\".format( defname, charge_list))\n",
    "    \n",
    "print('\\nNow consider larger supercells for follow up..')\n",
    "rec_dict = dpd.suggest_larger_supercells()\n",
    "for defname, charge_list in rec_dict.items():\n",
    "    print(\"\\t{} needs {} should be re-run \"\n",
    "          \"with bigger cell\".format( defname, charge_list))"
   ]
  },
  {
   "cell_type": "code",
   "execution_count": null,
   "metadata": {},
   "outputs": [],
   "source": [
    "# Solve for fermi energy if the bulk_dos is supplied\n",
    "from pymatgen.core import Element\n",
    "\n",
    "temp = 600.\n",
    "bulk_dos = dpd_dat[\"bulk_dos\"]\n",
    "ef = dpd.solve_for_fermi_energy( temp, cp, dpd_dat[\"bulk_dos\"])\n",
    "print(\"Fermi level is {} at Temperature = {} K\".format( ef, temp))\n",
    "print(\"Plot again...\")\n",
    "p = dpd.plot(cp, ylim=None, ax_fontsize=1.3, fermi_level = ef)\n",
    "p.show()"
   ]
  },
  {
   "cell_type": "markdown",
   "metadata": {},
   "source": [
    "# PyCDT defect-related code"
   ]
  },
  {
   "cell_type": "markdown",
   "metadata": {},
   "source": [
    "### PyCDT Example 1: Original command line calls to aid in defect calculation setup, parsing and analysis"
   ]
  },
  {
   "cell_type": "markdown",
   "metadata": {},
   "source": [
    "The original PyCDT paper (linked below) serves as a useful manual for using the command line version of PyCDT to setup defect calculations, perform corrections, parse outputs, and plot formation energies. All of those features still work in PyCDT v2.0 and are useful for users who do not want to learn how to manually make use of pymatgen and/or fireworks.\n",
    "\n",
    "https://doi.org/10.1016/j.cpc.2018.01.004\n",
    "\n",
    "As detailed extensively in the original paper, all of the command line options for pycdt are:\n",
    "- pycdt generate_input\n",
    "- pycdt parse_output\n",
    "- pycdt compute_corrections\n",
    "- pycdt compure_formation_energies\n",
    "\n",
    "All command line options also include useful help messages with the flag --help.\n",
    "\n",
    "For further questions or discussion about the utility of PyCDT for certain applications, consider joining the PyCDT google group: https://groups.google.com/forum/#!forum/pycdt-forum\n"
   ]
  },
  {
   "cell_type": "markdown",
   "metadata": {},
   "source": [
    "### PyCDT Example 2: Create DefectEntries from file paths"
   ]
  },
  {
   "cell_type": "markdown",
   "metadata": {},
   "source": [
    "PyCDT Version 2.0 has a SingleDefectParser class which allows for defect identification given a file path. This includes the identification of defect calculations which were not set up without PyCDT (file paths which do not have the transformation.json file). Note that if multiple relaxation runs were required, the Vasprun file may not have the true initial_defect_structure. This can cause occasionally cause issues for defect identification - therefore, this approach without PyCDT generation should be used with caution. "
   ]
  },
  {
   "cell_type": "code",
   "execution_count": null,
   "metadata": {},
   "outputs": [],
   "source": [
    "# This example makes use of the files in pycdt/test_files/test_path_files/\n",
    "# if these are not unzipped and local, then following code unzips them.\n",
    "import os\n",
    "if not os.path.exists( './test_path_files/'):\n",
    "    from pycdt import __file__ as initfilep\n",
    "    test_file_path = os.path.abspath( os.path.join(os.path.split( initfilep)[0], \"../\", \"test_files\"))\n",
    "    import tarfile\n",
    "    tar = tarfile.open( os.path.join( test_file_path, \"test_path_files.tar.gz\"))\n",
    "    tar.extractall()\n",
    "    tar.close()"
   ]
  },
  {
   "cell_type": "code",
   "execution_count": null,
   "metadata": {},
   "outputs": [],
   "source": [
    "from pycdt.utils.parse_calculations import SingleDefectParser\n",
    "import numpy as np\n",
    "\n",
    "defect_file_path = \"test_path_files/sub_1_Sb_on_Ga/charge_2/\"\n",
    "bulk_file_path = \"test_path_files/bulk/\"\n",
    "dielectric = 18.12 * np.array( [[1., 0, 0],[0., 1., 0],[0, 0, 1.]] )\n",
    "defect_charge = 2\n",
    "\n",
    "sdp = SingleDefectParser.from_paths( defect_file_path, bulk_file_path,\n",
    "                                     dielectric, defect_charge)\n",
    "\n",
    "print(\"DefectEntry created from file path!\\n\\n{}\".format( sdp.defect_entry))"
   ]
  },
  {
   "cell_type": "code",
   "execution_count": null,
   "metadata": {},
   "outputs": [],
   "source": [
    "# one can then load more essential data for parsing with pymatgen and run the Compatibility Class \n",
    "# to compute all relevant corrections. \n",
    "bo = sdp.kumagai_loader()\n",
    "sdp.get_stdrd_metadata()\n",
    "sdp.get_bulk_gap_data()\n",
    "\n",
    "print(\"now running compatibility class...\")\n",
    "sdp.run_compatibility()\n",
    "print(\"\\nThis produced the following corrections: {}\".format( sdp.defect_entry.corrections))"
   ]
  },
  {
   "cell_type": "markdown",
   "metadata": {},
   "source": [
    "The sdp.defect_entry DefectEntry object can then be loaded (with others) to a DefectPhaseDiagram for the analysis covered in the previous section of this notebook."
   ]
  },
  {
   "cell_type": "markdown",
   "metadata": {},
   "source": [
    "### PyCDT Example 3: Intelligently grab chemical potentials from a DefectPhaseDiagram"
   ]
  },
  {
   "cell_type": "code",
   "execution_count": null,
   "metadata": {},
   "outputs": [],
   "source": [
    "from pycdt.core.chemical_potentials import get_mp_chempots_from_dpd\n",
    "\n",
    "cp = get_mp_chempots_from_dpd( dpd)\n",
    "print(\"Chemical potentials determined!\")\n",
    "for k,v in cp.items():\n",
    "    print(\"\\tFacet {}, has {}\".format( k, v))"
   ]
  },
  {
   "cell_type": "markdown",
   "metadata": {},
   "source": [
    "### PyCDT Example 4: Quickly calculate corrections from a file path"
   ]
  },
  {
   "cell_type": "markdown",
   "metadata": {},
   "source": [
    "As discussed in PyCDT Example 2, version 2.0 includes the SingleDefectParser class for quick identification of defect entry objects without the command line approach. An additional feature that makes use of this are two functions which facilitate the quick calculation and plotting of charge corrections, given a file path."
   ]
  },
  {
   "cell_type": "code",
   "execution_count": null,
   "metadata": {},
   "outputs": [],
   "source": [
    "# plot kumagai potential alignment plot\n",
    "from pycdt.core.defects_analyzer import kumagai_correction_from_paths\n",
    "\n",
    "defect_file_path = \"test_path_files/sub_1_Sb_on_Ga/charge_2/\"\n",
    "bulk_file_path = \"test_path_files/bulk/\"\n",
    "dielectric = 18.12 * np.array( [[1., 0, 0],[0., 1., 0],[0, 0, 1.]] )\n",
    "defect_charge = 2\n",
    "\n",
    "kc = kumagai_correction_from_paths( defect_file_path, bulk_file_path,\n",
    "                                     dielectric, defect_charge, \n",
    "                                   plot = False # set to True if correction plot printing is desired\n",
    "                                  ) "
   ]
  },
  {
   "cell_type": "markdown",
   "metadata": {},
   "source": [
    "An identical function (with same inputs) exists for the Freysoldt correction (its called freysoldt_correction_from_paths)."
   ]
  },
  {
   "cell_type": "markdown",
   "metadata": {},
   "source": [
    "### PyCDT Example 5: Set up and analyze phase diagram calculations for chemical potentials"
   ]
  },
  {
   "cell_type": "markdown",
   "metadata": {},
   "source": [
    "If defect calculations are being performed with DFT settings that differ from the Materials Project's standard implementation (for example, a different Hubbard U parameter or with the SCAN functional approach), then the phase diagram that is used for determining the chemical potentials should not be those of the Materials Project. PyCDT includes options for setting up and parsing your own PhaseDiagram calculations, using information from the Materials Project database.\n",
    "\n",
    "If you trust the stability of the phases within the GGA-PBE phase diagram, you can choose to limit the number of calculations done by only allowing the setup of phases from neighboring facets around the composition of interest (this is the default operation). Alternatively, one can choose to include all stable phases within the phase diagram (through the boolean flag full_phase_diagram) and/or one can choose to include additional unstable phases in the phase diagram, up to a given energy-above-ground-state-hull value (through adjustment of the energy_above_hull float input)."
   ]
  },
  {
   "cell_type": "code",
   "execution_count": null,
   "metadata": {},
   "outputs": [],
   "source": [
    "# Setting up phase diagram calculations\n",
    "from pycdt.core.chemical_potentials import UserChemPotInputGenerator\n",
    "from pymatgen.core import Composition\n",
    "\n",
    "comp = Composition( {\"Ga\": 1, \"As\": 1})\n",
    "uci = UserChemPotInputGenerator( comp)\n",
    "\n",
    "uci.setup_phase_diagram_calculations( full_phase_diagram = False, \n",
    "                                     energy_above_hull = 0\n",
    "                                    )"
   ]
  },
  {
   "cell_type": "code",
   "execution_count": null,
   "metadata": {},
   "outputs": [],
   "source": [
    "print(\"Now your structures for a phase diagram calculation have been setup \"\\\n",
    "      \"in the local folder PhaseDiagram.\\nWith folder contents:\")\n",
    "print(os.listdir(\"PhaseDiagram\"))"
   ]
  },
  {
   "cell_type": "markdown",
   "metadata": {},
   "source": [
    "Once your structure files are setup, you can manually adjust their input settings to your liking and run them. After they have finished, then you can parse them with the same PhaseDiagram/ file structure, using the UserChemPotAnalyzer class. \n",
    "\n",
    "If you trust some of the Materials Project (MP) entries, then you can choose to include any additional MP entries (beyond the calculations you performed) by setting include_mp_entries = True (the default option). "
   ]
  },
  {
   "cell_type": "code",
   "execution_count": null,
   "metadata": {},
   "outputs": [],
   "source": [
    "# Parse existing phase diagram object\n",
    "# (this is an example of how you would do it, \n",
    "#  but if calculations have not been run yet then this will fail.)\n",
    "from pycdt.core.chemical_potentials import UserChemPotAnalyzer\n",
    "\n",
    "# You need to load your own bulk ComputedEntry to analyze the phase diagram.\n",
    "# This can be either the supercell calculation or a seperate, converged calculation.\n",
    "# You can get a ComputedEntry easily from Vasprun.get_computed_entry()\n",
    "bulk_ce = None #replace this after bulk calculation is performed\n",
    "\n",
    "uca = UserChemPotAnalyzer( bulk_ce = bulk_ce)\n",
    "\n",
    "uca.read_phase_diagram_and_chempots( include_mp_entries=True\n",
    "                                    )"
   ]
  },
  {
   "cell_type": "markdown",
   "metadata": {},
   "source": [
    "## Thats it for now! If you have additional ideas for example codes you want to see, please let us know on the google group mentioned earlier."
   ]
  }
 ],
 "metadata": {
  "kernelspec": {
   "display_name": "Python 3",
   "language": "python",
   "name": "python3"
  },
  "language_info": {
   "codemirror_mode": {
    "name": "ipython",
    "version": 3
   },
   "file_extension": ".py",
   "mimetype": "text/x-python",
   "name": "python",
   "nbconvert_exporter": "python",
   "pygments_lexer": "ipython3",
   "version": "3.8.3"
  }
 },
 "nbformat": 4,
 "nbformat_minor": 2
}
